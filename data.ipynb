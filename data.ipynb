{
 "cells": [
  {
   "cell_type": "code",
   "execution_count": 1,
   "metadata": {},
   "outputs": [],
   "source": [
    "import praw\n",
    "import pandas as pd\n",
    "import numpy as np\n",
    "import json\n",
    "import matplotlib.pyplot as plt"
   ]
  },
  {
   "cell_type": "code",
   "execution_count": 22,
   "metadata": {},
   "outputs": [],
   "source": [
    "# Import configs\n",
    "with open('config/data_params.json') as f:\n",
    "    data_params = json.load(f)\n",
    "api_keys = data_params['api_keys']\n",
    "\n",
    "science_path = data_params['science_path']\n",
    "myth_path = data_params['myth_path']\n",
    "politics_path = data_params['politics_path']\n",
    "\n",
    "science = data_params['science']\n",
    "myth = data_params['myth']\n",
    "politics = data_params['politics']"
   ]
  },
  {
   "cell_type": "code",
   "execution_count": 23,
   "metadata": {},
   "outputs": [],
   "source": [
    "# Load API\n",
    "with open(api_keys) as f:\n",
    "    api_keys = json.load(f)\n",
    "reddit = praw.Reddit(\n",
    "    client_id=api_keys['client_id'],\n",
    "    client_secret=api_keys['client_secret'],\n",
    "    password=api_keys['password'],\n",
    "    user_agent=api_keys['user_agent'],\n",
    "    username=api_keys['username']\n",
    ")"
   ]
  },
  {
   "cell_type": "code",
   "execution_count": 24,
   "metadata": {},
   "outputs": [],
   "source": [
    "# Given a dataframe of post ID's, \"rehydrate\" with relevant information about the author, score, upvote ratio, and num comments\n",
    "def post_info(submissions):\n",
    "    submissions['author'] = submissions[0].apply(lambda x: x.author)\n",
    "    submissions['score'] = submissions[0].apply(lambda x: x.score)\n",
    "    submissions['upvote_ratio'] = submissions[0].apply(lambda x: x.upvote_ratio)\n",
    "    submissions['num_comments'] = submissions[0].apply(lambda x: x.num_comments)\n",
    "    return submissions"
   ]
  },
  {
   "cell_type": "code",
   "execution_count": 28,
   "metadata": {},
   "outputs": [],
   "source": [
    "# Write all post info to disk\n",
    "def write_data(infotype, infotype_path):\n",
    "    # First subreddit in list - get 1000 top hot posts, rehydrate, and save to disk\n",
    "    temp = pd.DataFrame(list(reddit.subreddit(infotype[0]).hot(limit=1000)))\n",
    "    post_info(temp)\n",
    "    print(infotype[0])\n",
    "\n",
    "    # Save to either science.csv, myth.csv, or politics.csv\n",
    "    temp.to_csv(infotype_path)\n",
    "    \n",
    "    # Do for rest of files (appended this time)\n",
    "    for i in infotype[1:]:\n",
    "        temp = pd.DataFrame(list(reddit.subreddit(i).hot(limit=1000)))\n",
    "        post_info(temp)\n",
    "        print(i)\n",
    "\n",
    "        temp.to_csv(infotype_path, mode = 'a', header = False)"
   ]
  },
  {
   "cell_type": "code",
   "execution_count": 30,
   "metadata": {},
   "outputs": [
    {
     "name": "stdout",
     "output_type": "stream",
     "text": [
      "bigfoot\n",
      "Humanoidencounters\n",
      "BigfootEncounters\n",
      "conspiracy\n",
      "wanttobelieve\n",
      "SasquatchAttacks\n",
      "squatchersonly\n",
      "UrbanMyths\n",
      "ufo\n",
      "UFOs\n",
      "aliens\n"
     ]
    }
   ],
   "source": [
    "write_data(myth, myth_path)"
   ]
  },
  {
   "cell_type": "code",
   "execution_count": 31,
   "metadata": {},
   "outputs": [
    {
     "name": "stdout",
     "output_type": "stream",
     "text": [
      "AskThe_Donald\n",
      "flatearthsociety\n",
      "tucker_carlson\n",
      "HillaryForPrison\n",
      "climateskeptics\n",
      "benshapiro\n",
      "China_Flu\n",
      "LockdownSkepticism\n",
      "WalkAway\n",
      "antifapassdenied\n"
     ]
    }
   ],
   "source": [
    "write_data(politics, politics_path)"
   ]
  },
  {
   "cell_type": "markdown",
   "metadata": {},
   "source": [
    "testing ssh key"
   ]
  },
  {
   "cell_type": "code",
   "execution_count": null,
   "metadata": {},
   "outputs": [],
   "source": []
  }
 ],
 "metadata": {
  "kernelspec": {
   "display_name": "Python 3",
   "language": "python",
   "name": "python3"
  },
  "language_info": {
   "codemirror_mode": {
    "name": "ipython",
    "version": 3
   },
   "file_extension": ".py",
   "mimetype": "text/x-python",
   "name": "python",
   "nbconvert_exporter": "python",
   "pygments_lexer": "ipython3",
   "version": "3.7.6"
  }
 },
 "nbformat": 4,
 "nbformat_minor": 4
}
