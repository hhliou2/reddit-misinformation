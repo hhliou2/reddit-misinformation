{
 "cells": [
  {
   "cell_type": "code",
   "execution_count": 2,
   "metadata": {},
   "outputs": [],
   "source": [
    "import praw\n",
    "from psaw import PushshiftAPI\n",
    "import pandas as pd\n",
    "import numpy as np\n",
    "import json\n",
    "import matplotlib.pyplot as plt"
   ]
  },
  {
   "cell_type": "code",
   "execution_count": 3,
   "metadata": {},
   "outputs": [],
   "source": [
    "# Import configs\n",
    "with open('config/data_params.json') as f:\n",
    "    data_params = json.load(f)\n",
    "api_keys = data_params['api_keys']\n",
    "\n",
    "science_path = data_params['science_path']\n",
    "myth_path = data_params['myth_path']\n",
    "politics_path = data_params['politics_path']\n",
    "\n",
    "science = data_params['science']\n",
    "myth = data_params['myth']\n",
    "politics = data_params['politics']"
   ]
  },
  {
   "cell_type": "code",
   "execution_count": 3,
   "metadata": {},
   "outputs": [],
   "source": [
    "# Load API\n",
    "with open(api_keys) as f:\n",
    "    api_keys = json.load(f)\n",
    "reddit = praw.Reddit(\n",
    "    client_id=api_keys['client_id'],\n",
    "    client_secret=api_keys['client_secret'],\n",
    "    password=api_keys['password'],\n",
    "    user_agent=api_keys['user_agent'],\n",
    "    username=api_keys['username']\n",
    ")"
   ]
  },
  {
   "cell_type": "code",
   "execution_count": 24,
   "metadata": {},
   "outputs": [],
   "source": [
    "# Given a dataframe of post ID's, \"rehydrate\" with relevant information about the author, score, upvote ratio, and num comments\n",
    "def post_info(submissions):\n",
    "    submissions['author'] = submissions[0].apply(lambda x: x.author)\n",
    "    submissions['score'] = submissions[0].apply(lambda x: x.score)\n",
    "    submissions['upvote_ratio'] = submissions[0].apply(lambda x: x.upvote_ratio)\n",
    "    submissions['num_comments'] = submissions[0].apply(lambda x: x.num_comments)\n",
    "    return submissions"
   ]
  },
  {
   "cell_type": "code",
   "execution_count": 28,
   "metadata": {},
   "outputs": [],
   "source": [
    "# Write all post info to disk\n",
    "def write_data(infotype, infotype_path):\n",
    "    # First subreddit in list - get 1000 top hot posts, rehydrate, and save to disk\n",
    "    temp = pd.DataFrame(list(reddit.subreddit(infotype[0]).hot(limit=1000)))\n",
    "    post_info(temp)\n",
    "    print(infotype[0])\n",
    "\n",
    "    # Save to either science.csv, myth.csv, or politics.csv\n",
    "    temp.to_csv(infotype_path)\n",
    "    \n",
    "    # Do for rest of files (appended this time)\n",
    "    for i in infotype[1:]:\n",
    "        temp = pd.DataFrame(list(reddit.subreddit(i).hot(limit=1000)))\n",
    "        post_info(temp)\n",
    "        print(i)\n",
    "\n",
    "        temp.to_csv(infotype_path, mode = 'a', header = False)"
   ]
  },
  {
   "cell_type": "code",
   "execution_count": 30,
   "metadata": {},
   "outputs": [
    {
     "name": "stdout",
     "output_type": "stream",
     "text": [
      "bigfoot\n",
      "Humanoidencounters\n",
      "BigfootEncounters\n",
      "conspiracy\n",
      "wanttobelieve\n",
      "SasquatchAttacks\n",
      "squatchersonly\n",
      "UrbanMyths\n",
      "ufo\n",
      "UFOs\n",
      "aliens\n"
     ]
    }
   ],
   "source": [
    "write_data(myth, myth_path)"
   ]
  },
  {
   "cell_type": "code",
   "execution_count": 31,
   "metadata": {},
   "outputs": [
    {
     "name": "stdout",
     "output_type": "stream",
     "text": [
      "AskThe_Donald\n",
      "flatearthsociety\n",
      "tucker_carlson\n",
      "HillaryForPrison\n",
      "climateskeptics\n",
      "benshapiro\n",
      "China_Flu\n",
      "LockdownSkepticism\n",
      "WalkAway\n",
      "antifapassdenied\n"
     ]
    }
   ],
   "source": [
    "write_data(politics, politics_path)"
   ]
  },
  {
   "cell_type": "markdown",
   "metadata": {},
   "source": [
    "testing ssh key"
   ]
  },
  {
   "cell_type": "code",
   "execution_count": 4,
   "metadata": {},
   "outputs": [],
   "source": [
    "from psaw import PushshiftAPI\n",
    "\n",
    "api = PushshiftAPI()"
   ]
  },
  {
   "cell_type": "code",
   "execution_count": 5,
   "metadata": {},
   "outputs": [],
   "source": [
    "import datetime as dt\n",
    "\n",
    "start_epoch=int(dt.datetime(2020, 1, 1).timestamp())\n",
    "\n",
    "gen = list(api.search_comments(after=start_epoch,\n",
    "                            subreddit='The_Donald',\n",
    "                            filter=['id'], limit = 10))\n",
    "df = pd.DataFrame([thing.d_ for thing in gen])"
   ]
  },
  {
   "cell_type": "code",
   "execution_count": 21,
   "metadata": {},
   "outputs": [
    {
     "data": {
      "text/plain": [
       "[comment(all_awardings=[], approved_at_utc=None, associated_award=None, author='[deleted]', author_flair_background_color='', author_flair_css_class=None, author_flair_template_id=None, author_flair_text=None, author_flair_text_color='dark', awarders=[], banned_at_utc=None, body='[removed]', can_mod_post=False, collapsed=True, collapsed_because_crowd_control=None, collapsed_reason=None, created_utc=1593443119, distinguished=None, edited=False, gildings={}, id='fwdfnmx', is_submitter=False, link_id='t3_f9yu7g', locked=False, no_follow=True, parent_id='t3_f9yu7g', permalink='/r/The_Donald/comments/f9yu7g/the_donald_canary_admin_takeover_imminent/fwdfnmx/', retrieved_on=1593443122, score=1, send_replies=True, stickied=False, subreddit='The_Donald', subreddit_id='t5_38unr', top_awarded_type=None, total_awards_received=0, treatment_tags=[], created=1593471919.0, d_={'all_awardings': [], 'approved_at_utc': None, 'associated_award': None, 'author': '[deleted]', 'author_flair_background_color': '', 'author_flair_css_class': None, 'author_flair_template_id': None, 'author_flair_text': None, 'author_flair_text_color': 'dark', 'awarders': [], 'banned_at_utc': None, 'body': '[removed]', 'can_mod_post': False, 'collapsed': True, 'collapsed_because_crowd_control': None, 'collapsed_reason': None, 'created_utc': 1593443119, 'distinguished': None, 'edited': False, 'gildings': {}, 'id': 'fwdfnmx', 'is_submitter': False, 'link_id': 't3_f9yu7g', 'locked': False, 'no_follow': True, 'parent_id': 't3_f9yu7g', 'permalink': '/r/The_Donald/comments/f9yu7g/the_donald_canary_admin_takeover_imminent/fwdfnmx/', 'retrieved_on': 1593443122, 'score': 1, 'send_replies': True, 'stickied': False, 'subreddit': 'The_Donald', 'subreddit_id': 't5_38unr', 'top_awarded_type': None, 'total_awards_received': 0, 'treatment_tags': [], 'created': 1593471919.0})]"
      ]
     },
     "execution_count": 21,
     "metadata": {},
     "output_type": "execute_result"
    }
   ],
   "source": [
    "list(api.search_comments(ids=df.iloc[0, 1]))"
   ]
  },
  {
   "cell_type": "code",
   "execution_count": 38,
   "metadata": {},
   "outputs": [],
   "source": [
    "start_epoch=int(dt.datetime(2020, 12, 31).timestamp())\n",
    "\n",
    "gen = list(api.search_submissions(before=start_epoch,\n",
    "                            subreddit='The_Donald',\n",
    "                            filter=['id', 'author', 'score'],\n",
    "                            limit = 10))"
   ]
  },
  {
   "cell_type": "code",
   "execution_count": 39,
   "metadata": {},
   "outputs": [],
   "source": [
    "df = pd.DataFrame([thing.d_ for thing in gen])"
   ]
  },
  {
   "cell_type": "code",
   "execution_count": 40,
   "metadata": {},
   "outputs": [
    {
     "data": {
      "text/html": [
       "<div>\n",
       "<style scoped>\n",
       "    .dataframe tbody tr th:only-of-type {\n",
       "        vertical-align: middle;\n",
       "    }\n",
       "\n",
       "    .dataframe tbody tr th {\n",
       "        vertical-align: top;\n",
       "    }\n",
       "\n",
       "    .dataframe thead th {\n",
       "        text-align: right;\n",
       "    }\n",
       "</style>\n",
       "<table border=\"1\" class=\"dataframe\">\n",
       "  <thead>\n",
       "    <tr style=\"text-align: right;\">\n",
       "      <th></th>\n",
       "      <th>author</th>\n",
       "      <th>created_utc</th>\n",
       "      <th>id</th>\n",
       "      <th>score</th>\n",
       "      <th>created</th>\n",
       "    </tr>\n",
       "  </thead>\n",
       "  <tbody>\n",
       "    <tr>\n",
       "      <th>0</th>\n",
       "      <td>CovfefeBucks</td>\n",
       "      <td>1590708669</td>\n",
       "      <td>gshffi</td>\n",
       "      <td>1</td>\n",
       "      <td>1.590737e+09</td>\n",
       "    </tr>\n",
       "    <tr>\n",
       "      <th>1</th>\n",
       "      <td>CovfefeBucks</td>\n",
       "      <td>1584500691</td>\n",
       "      <td>fkille</td>\n",
       "      <td>1</td>\n",
       "      <td>1.584529e+09</td>\n",
       "    </tr>\n",
       "    <tr>\n",
       "      <th>2</th>\n",
       "      <td>mivvan</td>\n",
       "      <td>1584397773</td>\n",
       "      <td>fjttfh</td>\n",
       "      <td>70</td>\n",
       "      <td>1.584427e+09</td>\n",
       "    </tr>\n",
       "    <tr>\n",
       "      <th>3</th>\n",
       "      <td>pray_for_kekistan</td>\n",
       "      <td>1584316486</td>\n",
       "      <td>fjb8qw</td>\n",
       "      <td>1</td>\n",
       "      <td>1.584345e+09</td>\n",
       "    </tr>\n",
       "    <tr>\n",
       "      <th>4</th>\n",
       "      <td>CovfefeBucks</td>\n",
       "      <td>1584306846</td>\n",
       "      <td>fj8ph7</td>\n",
       "      <td>1</td>\n",
       "      <td>1.584336e+09</td>\n",
       "    </tr>\n",
       "  </tbody>\n",
       "</table>\n",
       "</div>"
      ],
      "text/plain": [
       "              author  created_utc      id  score       created\n",
       "0       CovfefeBucks   1590708669  gshffi      1  1.590737e+09\n",
       "1       CovfefeBucks   1584500691  fkille      1  1.584529e+09\n",
       "2             mivvan   1584397773  fjttfh     70  1.584427e+09\n",
       "3  pray_for_kekistan   1584316486  fjb8qw      1  1.584345e+09\n",
       "4       CovfefeBucks   1584306846  fj8ph7      1  1.584336e+09"
      ]
     },
     "execution_count": 40,
     "metadata": {},
     "output_type": "execute_result"
    }
   ],
   "source": [
    "df.head()"
   ]
  },
  {
   "cell_type": "code",
   "execution_count": 42,
   "metadata": {},
   "outputs": [],
   "source": [
    "start_epoch=int(dt.datetime(2020, 12, 31).timestamp())\n",
    "\n",
    "gen = list(api.search_comments(before=start_epoch,\n",
    "                            subreddit='The_Donald',\n",
    "                            filter=['id', 'author', 'score'],\n",
    "                            limit = 10))"
   ]
  },
  {
   "cell_type": "code",
   "execution_count": 43,
   "metadata": {},
   "outputs": [
    {
     "data": {
      "text/html": [
       "<div>\n",
       "<style scoped>\n",
       "    .dataframe tbody tr th:only-of-type {\n",
       "        vertical-align: middle;\n",
       "    }\n",
       "\n",
       "    .dataframe tbody tr th {\n",
       "        vertical-align: top;\n",
       "    }\n",
       "\n",
       "    .dataframe thead th {\n",
       "        text-align: right;\n",
       "    }\n",
       "</style>\n",
       "<table border=\"1\" class=\"dataframe\">\n",
       "  <thead>\n",
       "    <tr style=\"text-align: right;\">\n",
       "      <th></th>\n",
       "      <th>author</th>\n",
       "      <th>created_utc</th>\n",
       "      <th>id</th>\n",
       "      <th>score</th>\n",
       "      <th>created</th>\n",
       "    </tr>\n",
       "  </thead>\n",
       "  <tbody>\n",
       "    <tr>\n",
       "      <th>0</th>\n",
       "      <td>[deleted]</td>\n",
       "      <td>1593443119</td>\n",
       "      <td>fwdfnmx</td>\n",
       "      <td>1</td>\n",
       "      <td>1.593472e+09</td>\n",
       "    </tr>\n",
       "    <tr>\n",
       "      <th>1</th>\n",
       "      <td>rufrignkidnme</td>\n",
       "      <td>1593435065</td>\n",
       "      <td>fwd2auu</td>\n",
       "      <td>1</td>\n",
       "      <td>1.593464e+09</td>\n",
       "    </tr>\n",
       "    <tr>\n",
       "      <th>2</th>\n",
       "      <td>penisse</td>\n",
       "      <td>1593423114</td>\n",
       "      <td>fwcoyix</td>\n",
       "      <td>1</td>\n",
       "      <td>1.593452e+09</td>\n",
       "    </tr>\n",
       "    <tr>\n",
       "      <th>3</th>\n",
       "      <td>FOOLISHPROPHETX</td>\n",
       "      <td>1593421798</td>\n",
       "      <td>fwcnmxe</td>\n",
       "      <td>1</td>\n",
       "      <td>1.593451e+09</td>\n",
       "    </tr>\n",
       "    <tr>\n",
       "      <th>4</th>\n",
       "      <td>Justcartoon13</td>\n",
       "      <td>1593411583</td>\n",
       "      <td>fwcd8tq</td>\n",
       "      <td>1</td>\n",
       "      <td>1.593440e+09</td>\n",
       "    </tr>\n",
       "  </tbody>\n",
       "</table>\n",
       "</div>"
      ],
      "text/plain": [
       "            author  created_utc       id  score       created\n",
       "0        [deleted]   1593443119  fwdfnmx      1  1.593472e+09\n",
       "1    rufrignkidnme   1593435065  fwd2auu      1  1.593464e+09\n",
       "2          penisse   1593423114  fwcoyix      1  1.593452e+09\n",
       "3  FOOLISHPROPHETX   1593421798  fwcnmxe      1  1.593451e+09\n",
       "4    Justcartoon13   1593411583  fwcd8tq      1  1.593440e+09"
      ]
     },
     "execution_count": 43,
     "metadata": {},
     "output_type": "execute_result"
    }
   ],
   "source": [
    "df = pd.DataFrame([thing.d_ for thing in gen])\n",
    "df.head()"
   ]
  },
  {
   "cell_type": "code",
   "execution_count": 44,
   "metadata": {},
   "outputs": [
    {
     "data": {
      "text/plain": [
       "['fwdfnmx',\n",
       " 'fwd2auu',\n",
       " 'fwcoyix',\n",
       " 'fwcnmxe',\n",
       " 'fwcd8tq',\n",
       " 'fwcbmsb',\n",
       " 'fwc967a',\n",
       " 'fwc47lt',\n",
       " 'fwc2p9d',\n",
       " 'fwc1zck']"
      ]
     },
     "execution_count": 44,
     "metadata": {},
     "output_type": "execute_result"
    }
   ],
   "source": [
    "df['id'].to_list()"
   ]
  },
  {
   "cell_type": "code",
   "execution_count": 46,
   "metadata": {},
   "outputs": [
    {
     "data": {
      "text/plain": [
       "[comment(author='AutoModerator', created_utc=1593402835, id='fwc1zck', score=1, created=1593431635.0, d_={'author': 'AutoModerator', 'created_utc': 1593402835, 'id': 'fwc1zck', 'score': 1, 'created': 1593431635.0}),\n",
       " comment(author='AutoModerator', created_utc=1593403341, id='fwc2p9d', score=1, created=1593432141.0, d_={'author': 'AutoModerator', 'created_utc': 1593403341, 'id': 'fwc2p9d', 'score': 1, 'created': 1593432141.0}),\n",
       " comment(author='ChooChoofuuckyouu', created_utc=1593404421, id='fwc47lt', score=1, created=1593433221.0, d_={'author': 'ChooChoofuuckyouu', 'created_utc': 1593404421, 'id': 'fwc47lt', 'score': 1, 'created': 1593433221.0}),\n",
       " comment(author='Treestyles', created_utc=1593408176, id='fwc967a', score=1, created=1593436976.0, d_={'author': 'Treestyles', 'created_utc': 1593408176, 'id': 'fwc967a', 'score': 1, 'created': 1593436976.0}),\n",
       " comment(author='BackwardPalindrome', created_utc=1593410174, id='fwcbmsb', score=1, created=1593438974.0, d_={'author': 'BackwardPalindrome', 'created_utc': 1593410174, 'id': 'fwcbmsb', 'score': 1, 'created': 1593438974.0}),\n",
       " comment(author='Justcartoon13', created_utc=1593411583, id='fwcd8tq', score=1, created=1593440383.0, d_={'author': 'Justcartoon13', 'created_utc': 1593411583, 'id': 'fwcd8tq', 'score': 1, 'created': 1593440383.0}),\n",
       " comment(author='FOOLISHPROPHETX', created_utc=1593421798, id='fwcnmxe', score=1, created=1593450598.0, d_={'author': 'FOOLISHPROPHETX', 'created_utc': 1593421798, 'id': 'fwcnmxe', 'score': 1, 'created': 1593450598.0}),\n",
       " comment(author='penisse', created_utc=1593423114, id='fwcoyix', score=1, created=1593451914.0, d_={'author': 'penisse', 'created_utc': 1593423114, 'id': 'fwcoyix', 'score': 1, 'created': 1593451914.0}),\n",
       " comment(author='rufrignkidnme', created_utc=1593435065, id='fwd2auu', score=1, created=1593463865.0, d_={'author': 'rufrignkidnme', 'created_utc': 1593435065, 'id': 'fwd2auu', 'score': 1, 'created': 1593463865.0}),\n",
       " comment(author='[deleted]', created_utc=1593443119, id='fwdfnmx', score=1, created=1593471919.0, d_={'author': '[deleted]', 'created_utc': 1593443119, 'id': 'fwdfnmx', 'score': 1, 'created': 1593471919.0})]"
      ]
     },
     "execution_count": 46,
     "metadata": {},
     "output_type": "execute_result"
    }
   ],
   "source": [
    "list(api.search_comments(before=start_epoch,\n",
    "                            subreddit='The_Donald',\n",
    "                            ids=df['id'].to_list(),\n",
    "                            filter=['id', 'author', 'score', 'created_utc'],\n",
    "                            limit = 10))"
   ]
  },
  {
   "cell_type": "code",
   "execution_count": 4,
   "metadata": {},
   "outputs": [
    {
     "ename": "NameError",
     "evalue": "name 'api' is not defined",
     "output_type": "error",
     "traceback": [
      "\u001b[0;31m\u001b[0m",
      "\u001b[0;31mNameError\u001b[0mTraceback (most recent call last)",
      "\u001b[0;32m<ipython-input-4-78e3d999e2e9>\u001b[0m in \u001b[0;36m<module>\u001b[0;34m\u001b[0m\n\u001b[1;32m      3\u001b[0m \u001b[0mstart_epoch\u001b[0m\u001b[0;34m=\u001b[0m\u001b[0mint\u001b[0m\u001b[0;34m(\u001b[0m\u001b[0mdt\u001b[0m\u001b[0;34m.\u001b[0m\u001b[0mdatetime\u001b[0m\u001b[0;34m(\u001b[0m\u001b[0;36m2021\u001b[0m\u001b[0;34m,\u001b[0m \u001b[0;36m1\u001b[0m\u001b[0;34m,\u001b[0m \u001b[0;36m1\u001b[0m\u001b[0;34m)\u001b[0m\u001b[0;34m.\u001b[0m\u001b[0mtimestamp\u001b[0m\u001b[0;34m(\u001b[0m\u001b[0;34m)\u001b[0m\u001b[0;34m)\u001b[0m\u001b[0;34m\u001b[0m\u001b[0;34m\u001b[0m\u001b[0m\n\u001b[1;32m      4\u001b[0m \u001b[0;34m\u001b[0m\u001b[0m\n\u001b[0;32m----> 5\u001b[0;31m gen = list(api.search_comments(before=start_epoch,\n\u001b[0m\u001b[1;32m      6\u001b[0m                             \u001b[0msubreddit\u001b[0m\u001b[0;34m=\u001b[0m\u001b[0;34m'The_Donald'\u001b[0m\u001b[0;34m,\u001b[0m\u001b[0;34m\u001b[0m\u001b[0;34m\u001b[0m\u001b[0m\n\u001b[1;32m      7\u001b[0m                             filter=['id'], limit = 10000))\n",
      "\u001b[0;31mNameError\u001b[0m: name 'api' is not defined"
     ]
    }
   ],
   "source": [
    "import datetime as dt\n",
    "\n",
    "start_epoch=int(dt.datetime(2021, 1, 1).timestamp())\n",
    "\n",
    "gen = list(api.search_comments(before=start_epoch,\n",
    "                            subreddit='The_Donald',\n",
    "                            filter=['id'], limit = 10000))\n",
    "df = pd.DataFrame([thing.d_ for thing in gen])"
   ]
  },
  {
   "cell_type": "code",
   "execution_count": 54,
   "metadata": {},
   "outputs": [
    {
     "data": {
      "text/plain": [
       "1591449431.0"
      ]
     },
     "execution_count": 54,
     "metadata": {},
     "output_type": "execute_result"
    }
   ],
   "source": [
    "df.iloc[-1, 2]"
   ]
  },
  {
   "cell_type": "code",
   "execution_count": 12,
   "metadata": {},
   "outputs": [],
   "source": [
    "# Write all post info to disk\n",
    "def write_dehydrated_data(infotype, infotype_path, before_year, before_day, before_month):\n",
    "    \n",
    "    # For each subreddit in list - get 10000 post ID's from before date and save to disk\n",
    "    start_epoch=dt.datetime(before_year, before_day, before_month).timestamp()\n",
    "    \n",
    "    # Keep track of whether to create or append\n",
    "    first = True\n",
    "    \n",
    "    for inf in infotype:\n",
    "        for i in range(10):\n",
    "            print(start_epoch)\n",
    "            gen = list(api.search_comments(before=int(start_epoch),\n",
    "                                        subreddit=inf,\n",
    "                                        filter=['id'], limit = 10000))\n",
    "            df = pd.DataFrame([thing.d_ for thing in gen])\n",
    "            df['subreddit'] = inf\n",
    "\n",
    "            print(df.shape)\n",
    "            # Save to either science.csv, myth.csv, or politics.csv\n",
    "            if first:\n",
    "                df.to_csv(infotype_path)\n",
    "                first = False\n",
    "            # Append to first df\n",
    "            else:\n",
    "                df.to_csv(infotype_path, mode = 'a', header = False)\n",
    "\n",
    "            # Start search from last date\n",
    "            start_epoch = df['created'].iloc[-1]"
   ]
  },
  {
   "cell_type": "code",
   "execution_count": 8,
   "metadata": {},
   "outputs": [
    {
     "name": "stdout",
     "output_type": "stream",
     "text": [
      "1609488000.0\n",
      "(1000, 4)\n",
      "ft29kra\n"
     ]
    },
    {
     "ename": "ValueError",
     "evalue": "invalid literal for int() with base 10: 'ft29kra'",
     "output_type": "error",
     "traceback": [
      "\u001b[0;31m\u001b[0m",
      "\u001b[0;31mValueError\u001b[0mTraceback (most recent call last)",
      "\u001b[0;32m<ipython-input-8-036e33465f65>\u001b[0m in \u001b[0;36m<module>\u001b[0;34m\u001b[0m\n\u001b[0;32m----> 1\u001b[0;31m \u001b[0mwrite_dehydrated_data\u001b[0m\u001b[0;34m(\u001b[0m\u001b[0;34m[\u001b[0m\u001b[0;34m'The_Donald'\u001b[0m\u001b[0;34m]\u001b[0m\u001b[0;34m,\u001b[0m \u001b[0mpolitics_path\u001b[0m\u001b[0;34m,\u001b[0m \u001b[0;36m2021\u001b[0m\u001b[0;34m,\u001b[0m \u001b[0;36m1\u001b[0m\u001b[0;34m,\u001b[0m \u001b[0;36m1\u001b[0m\u001b[0;34m)\u001b[0m\u001b[0;34m\u001b[0m\u001b[0;34m\u001b[0m\u001b[0m\n\u001b[0m",
      "\u001b[0;32m<ipython-input-1-0656540055f3>\u001b[0m in \u001b[0;36mwrite_dehydrated_data\u001b[0;34m(infotype, infotype_path, before_year, before_day, before_month)\u001b[0m\n\u001b[1;32m     11\u001b[0m         \u001b[0;32mfor\u001b[0m \u001b[0mi\u001b[0m \u001b[0;32min\u001b[0m \u001b[0mrange\u001b[0m\u001b[0;34m(\u001b[0m\u001b[0;36m10\u001b[0m\u001b[0;34m)\u001b[0m\u001b[0;34m:\u001b[0m\u001b[0;34m\u001b[0m\u001b[0;34m\u001b[0m\u001b[0m\n\u001b[1;32m     12\u001b[0m             \u001b[0mprint\u001b[0m\u001b[0;34m(\u001b[0m\u001b[0mstart_epoch\u001b[0m\u001b[0;34m)\u001b[0m\u001b[0;34m\u001b[0m\u001b[0;34m\u001b[0m\u001b[0m\n\u001b[0;32m---> 13\u001b[0;31m             gen = list(api.search_comments(before=int(start_epoch),\n\u001b[0m\u001b[1;32m     14\u001b[0m                                         \u001b[0msubreddit\u001b[0m\u001b[0;34m=\u001b[0m\u001b[0minf\u001b[0m\u001b[0;34m,\u001b[0m\u001b[0;34m\u001b[0m\u001b[0;34m\u001b[0m\u001b[0m\n\u001b[1;32m     15\u001b[0m                                         filter=['id'], limit = 10000))\n",
      "\u001b[0;31mValueError\u001b[0m: invalid literal for int() with base 10: 'ft29kra'"
     ]
    }
   ],
   "source": [
    "write_dehydrated_data(['The_Donald'], politics_path, 2021, 1, 1)"
   ]
  },
  {
   "cell_type": "code",
   "execution_count": 14,
   "metadata": {},
   "outputs": [
    {
     "data": {
      "text/plain": [
       "1593402835"
      ]
     },
     "execution_count": 14,
     "metadata": {},
     "output_type": "execute_result"
    }
   ],
   "source": [
    "df['created_utc'].iloc[-1]"
   ]
  },
  {
   "cell_type": "code",
   "execution_count": 58,
   "metadata": {},
   "outputs": [],
   "source": [
    "df = pd.read_csv(politics_path)"
   ]
  },
  {
   "cell_type": "code",
   "execution_count": 59,
   "metadata": {},
   "outputs": [],
   "source": [
    "subsamp_ids = df.sample(500, replace=False)['id'].to_list()"
   ]
  },
  {
   "cell_type": "code",
   "execution_count": 47,
   "metadata": {},
   "outputs": [
    {
     "data": {
      "text/plain": [
       "500"
      ]
     },
     "execution_count": 47,
     "metadata": {},
     "output_type": "execute_result"
    }
   ],
   "source": [
    "len(subsamp_ids)"
   ]
  },
  {
   "cell_type": "code",
   "execution_count": 48,
   "metadata": {},
   "outputs": [],
   "source": [
    "gen = list(api.search_comments(\n",
    "                            subreddit = 'The_Donald',\n",
    "                            ids = subsamp_ids,\n",
    "                            filter=['id', 'author', 'score', 'created_utc']))\n",
    "\n",
    "test = pd.DataFrame([thing.d_ for thing in gen])"
   ]
  },
  {
   "cell_type": "code",
   "execution_count": 55,
   "metadata": {},
   "outputs": [
    {
     "data": {
      "text/html": [
       "<div>\n",
       "<style scoped>\n",
       "    .dataframe tbody tr th:only-of-type {\n",
       "        vertical-align: middle;\n",
       "    }\n",
       "\n",
       "    .dataframe tbody tr th {\n",
       "        vertical-align: top;\n",
       "    }\n",
       "\n",
       "    .dataframe thead th {\n",
       "        text-align: right;\n",
       "    }\n",
       "</style>\n",
       "<table border=\"1\" class=\"dataframe\">\n",
       "  <thead>\n",
       "    <tr style=\"text-align: right;\">\n",
       "      <th></th>\n",
       "      <th>author</th>\n",
       "      <th>created_utc</th>\n",
       "      <th>id</th>\n",
       "      <th>score</th>\n",
       "      <th>created</th>\n",
       "    </tr>\n",
       "  </thead>\n",
       "  <tbody>\n",
       "    <tr>\n",
       "      <th>4</th>\n",
       "      <td>MAGA_MAGGING_MAGA</td>\n",
       "      <td>1587910257</td>\n",
       "      <td>fon1v2a</td>\n",
       "      <td>1</td>\n",
       "      <td>1.587939e+09</td>\n",
       "    </tr>\n",
       "    <tr>\n",
       "      <th>14</th>\n",
       "      <td>MAGA_MAGGING_MAGA</td>\n",
       "      <td>1587910382</td>\n",
       "      <td>fon21fe</td>\n",
       "      <td>1</td>\n",
       "      <td>1.587939e+09</td>\n",
       "    </tr>\n",
       "    <tr>\n",
       "      <th>16</th>\n",
       "      <td>MAGA_MAGGING_MAGA</td>\n",
       "      <td>1587910384</td>\n",
       "      <td>fon21jy</td>\n",
       "      <td>1</td>\n",
       "      <td>1.587939e+09</td>\n",
       "    </tr>\n",
       "    <tr>\n",
       "      <th>27</th>\n",
       "      <td>MAGA_MAGGING_MAGA</td>\n",
       "      <td>1587910510</td>\n",
       "      <td>fon283z</td>\n",
       "      <td>1</td>\n",
       "      <td>1.587939e+09</td>\n",
       "    </tr>\n",
       "    <tr>\n",
       "      <th>31</th>\n",
       "      <td>MAGA_MAGGING_MAGA</td>\n",
       "      <td>1587910540</td>\n",
       "      <td>fon29o6</td>\n",
       "      <td>1</td>\n",
       "      <td>1.587939e+09</td>\n",
       "    </tr>\n",
       "    <tr>\n",
       "      <th>...</th>\n",
       "      <td>...</td>\n",
       "      <td>...</td>\n",
       "      <td>...</td>\n",
       "      <td>...</td>\n",
       "      <td>...</td>\n",
       "    </tr>\n",
       "    <tr>\n",
       "      <th>475</th>\n",
       "      <td>BananaHammock12345</td>\n",
       "      <td>1593394843</td>\n",
       "      <td>fwbpj8f</td>\n",
       "      <td>1</td>\n",
       "      <td>1.593424e+09</td>\n",
       "    </tr>\n",
       "    <tr>\n",
       "      <th>476</th>\n",
       "      <td>BananaHammock12345</td>\n",
       "      <td>1593394850</td>\n",
       "      <td>fwbpjp9</td>\n",
       "      <td>1</td>\n",
       "      <td>1.593424e+09</td>\n",
       "    </tr>\n",
       "    <tr>\n",
       "      <th>477</th>\n",
       "      <td>ProdigalPlaneswalker</td>\n",
       "      <td>1593396788</td>\n",
       "      <td>fwbsp4a</td>\n",
       "      <td>1</td>\n",
       "      <td>1.593426e+09</td>\n",
       "    </tr>\n",
       "    <tr>\n",
       "      <th>478</th>\n",
       "      <td>BananaHammock12345</td>\n",
       "      <td>1593398372</td>\n",
       "      <td>fwbv7rj</td>\n",
       "      <td>1</td>\n",
       "      <td>1.593427e+09</td>\n",
       "    </tr>\n",
       "    <tr>\n",
       "      <th>479</th>\n",
       "      <td>MaximumPowah</td>\n",
       "      <td>1593399261</td>\n",
       "      <td>fwbwlug</td>\n",
       "      <td>1</td>\n",
       "      <td>1.593428e+09</td>\n",
       "    </tr>\n",
       "  </tbody>\n",
       "</table>\n",
       "<p>208 rows × 5 columns</p>\n",
       "</div>"
      ],
      "text/plain": [
       "                   author  created_utc       id  score       created\n",
       "4       MAGA_MAGGING_MAGA   1587910257  fon1v2a      1  1.587939e+09\n",
       "14      MAGA_MAGGING_MAGA   1587910382  fon21fe      1  1.587939e+09\n",
       "16      MAGA_MAGGING_MAGA   1587910384  fon21jy      1  1.587939e+09\n",
       "27      MAGA_MAGGING_MAGA   1587910510  fon283z      1  1.587939e+09\n",
       "31      MAGA_MAGGING_MAGA   1587910540  fon29o6      1  1.587939e+09\n",
       "..                    ...          ...      ...    ...           ...\n",
       "475    BananaHammock12345   1593394843  fwbpj8f      1  1.593424e+09\n",
       "476    BananaHammock12345   1593394850  fwbpjp9      1  1.593424e+09\n",
       "477  ProdigalPlaneswalker   1593396788  fwbsp4a      1  1.593426e+09\n",
       "478    BananaHammock12345   1593398372  fwbv7rj      1  1.593427e+09\n",
       "479          MaximumPowah   1593399261  fwbwlug      1  1.593428e+09\n",
       "\n",
       "[208 rows x 5 columns]"
      ]
     },
     "execution_count": 55,
     "metadata": {},
     "output_type": "execute_result"
    }
   ],
   "source": [
    "test.loc[~(test['author'] == '[deleted]')]"
   ]
  },
  {
   "cell_type": "code",
   "execution_count": 94,
   "metadata": {},
   "outputs": [],
   "source": [
    "def partition_sample_size(size):\n",
    "    new_size = size\n",
    "    counter = 1\n",
    "    lst = [0]\n",
    "    while new_size > 500:\n",
    "        new_size = new_size // 2\n",
    "        counter *= 2\n",
    "    if counter == 0:\n",
    "        return [new_size]\n",
    "    else:\n",
    "        for i in range(counter):\n",
    "            lst.append(new_size)\n",
    "        last_num = size % new_size\n",
    "        if last_num != 0:\n",
    "            lst.append(last_num)\n",
    "        return np.cumsum(lst)"
   ]
  },
  {
   "cell_type": "code",
   "execution_count": 107,
   "metadata": {},
   "outputs": [],
   "source": [
    "def sample(size, infotype_path):\n",
    "    sizes = partition_sample_size(size)\n",
    "    df = pd.read_csv(infotype_path)\n",
    "    samples = df.sample(size, replace=False)\n",
    "    subsamp_ids = samples['id'].to_list()\n",
    "    sub_df = None\n",
    "    \n",
    "    for i in range(len(sizes)-1):\n",
    "        gen = list(api.search_comments(\n",
    "                            ids = subsamp_ids[sizes[i]:sizes[i+1]],\n",
    "                            filter=['id', 'author', 'score', 'created_utc']))\n",
    "\n",
    "        if sub_df is None:\n",
    "            sub_df = pd.DataFrame([thing.d_ for thing in gen])\n",
    "        else:\n",
    "            sub_df = sub_df.append(pd.DataFrame([thing.d_ for thing in gen]), ignore_index = True)\n",
    "    return sub_df"
   ]
  },
  {
   "cell_type": "code",
   "execution_count": 108,
   "metadata": {},
   "outputs": [
    {
     "name": "stdout",
     "output_type": "stream",
     "text": [
      "ran1\n",
      "ran\n"
     ]
    },
    {
     "data": {
      "text/html": [
       "<div>\n",
       "<style scoped>\n",
       "    .dataframe tbody tr th:only-of-type {\n",
       "        vertical-align: middle;\n",
       "    }\n",
       "\n",
       "    .dataframe tbody tr th {\n",
       "        vertical-align: top;\n",
       "    }\n",
       "\n",
       "    .dataframe thead th {\n",
       "        text-align: right;\n",
       "    }\n",
       "</style>\n",
       "<table border=\"1\" class=\"dataframe\">\n",
       "  <thead>\n",
       "    <tr style=\"text-align: right;\">\n",
       "      <th></th>\n",
       "      <th>author</th>\n",
       "      <th>created_utc</th>\n",
       "      <th>id</th>\n",
       "      <th>score</th>\n",
       "      <th>created</th>\n",
       "    </tr>\n",
       "  </thead>\n",
       "  <tbody>\n",
       "    <tr>\n",
       "      <th>0</th>\n",
       "      <td>[deleted]</td>\n",
       "      <td>1587910194</td>\n",
       "      <td>fon1rsw</td>\n",
       "      <td>1</td>\n",
       "      <td>1.587939e+09</td>\n",
       "    </tr>\n",
       "    <tr>\n",
       "      <th>1</th>\n",
       "      <td>MAGA_MAGGING_MAGA</td>\n",
       "      <td>1587910208</td>\n",
       "      <td>fon1shg</td>\n",
       "      <td>1</td>\n",
       "      <td>1.587939e+09</td>\n",
       "    </tr>\n",
       "    <tr>\n",
       "      <th>2</th>\n",
       "      <td>[deleted]</td>\n",
       "      <td>1587910209</td>\n",
       "      <td>fon1sjv</td>\n",
       "      <td>1</td>\n",
       "      <td>1.587939e+09</td>\n",
       "    </tr>\n",
       "    <tr>\n",
       "      <th>3</th>\n",
       "      <td>[deleted]</td>\n",
       "      <td>1587910210</td>\n",
       "      <td>fon1sm4</td>\n",
       "      <td>1</td>\n",
       "      <td>1.587939e+09</td>\n",
       "    </tr>\n",
       "    <tr>\n",
       "      <th>4</th>\n",
       "      <td>[deleted]</td>\n",
       "      <td>1587910221</td>\n",
       "      <td>fon1t69</td>\n",
       "      <td>1</td>\n",
       "      <td>1.587939e+09</td>\n",
       "    </tr>\n",
       "    <tr>\n",
       "      <th>...</th>\n",
       "      <td>...</td>\n",
       "      <td>...</td>\n",
       "      <td>...</td>\n",
       "      <td>...</td>\n",
       "      <td>...</td>\n",
       "    </tr>\n",
       "    <tr>\n",
       "      <th>943</th>\n",
       "      <td>BananaHammock12345</td>\n",
       "      <td>1593394201</td>\n",
       "      <td>fwbohku</td>\n",
       "      <td>1</td>\n",
       "      <td>1.593423e+09</td>\n",
       "    </tr>\n",
       "    <tr>\n",
       "      <th>944</th>\n",
       "      <td>BananaHammock12345</td>\n",
       "      <td>1593394283</td>\n",
       "      <td>fwbomfo</td>\n",
       "      <td>1</td>\n",
       "      <td>1.593423e+09</td>\n",
       "    </tr>\n",
       "    <tr>\n",
       "      <th>945</th>\n",
       "      <td>BananaHammock12345</td>\n",
       "      <td>1593394342</td>\n",
       "      <td>fwbopuk</td>\n",
       "      <td>1</td>\n",
       "      <td>1.593423e+09</td>\n",
       "    </tr>\n",
       "    <tr>\n",
       "      <th>946</th>\n",
       "      <td>BananaHammock12345</td>\n",
       "      <td>1593394658</td>\n",
       "      <td>fwbp8bx</td>\n",
       "      <td>1</td>\n",
       "      <td>1.593423e+09</td>\n",
       "    </tr>\n",
       "    <tr>\n",
       "      <th>947</th>\n",
       "      <td>BananaHammock12345</td>\n",
       "      <td>1593394722</td>\n",
       "      <td>fwbpc3b</td>\n",
       "      <td>1</td>\n",
       "      <td>1.593424e+09</td>\n",
       "    </tr>\n",
       "  </tbody>\n",
       "</table>\n",
       "<p>948 rows × 5 columns</p>\n",
       "</div>"
      ],
      "text/plain": [
       "                 author  created_utc       id  score       created\n",
       "0             [deleted]   1587910194  fon1rsw      1  1.587939e+09\n",
       "1     MAGA_MAGGING_MAGA   1587910208  fon1shg      1  1.587939e+09\n",
       "2             [deleted]   1587910209  fon1sjv      1  1.587939e+09\n",
       "3             [deleted]   1587910210  fon1sm4      1  1.587939e+09\n",
       "4             [deleted]   1587910221  fon1t69      1  1.587939e+09\n",
       "..                  ...          ...      ...    ...           ...\n",
       "943  BananaHammock12345   1593394201  fwbohku      1  1.593423e+09\n",
       "944  BananaHammock12345   1593394283  fwbomfo      1  1.593423e+09\n",
       "945  BananaHammock12345   1593394342  fwbopuk      1  1.593423e+09\n",
       "946  BananaHammock12345   1593394658  fwbp8bx      1  1.593423e+09\n",
       "947  BananaHammock12345   1593394722  fwbpc3b      1  1.593424e+09\n",
       "\n",
       "[948 rows x 5 columns]"
      ]
     },
     "execution_count": 108,
     "metadata": {},
     "output_type": "execute_result"
    }
   ],
   "source": [
    "sample(1000, politics_path)"
   ]
  },
  {
   "cell_type": "code",
   "execution_count": 12,
   "metadata": {},
   "outputs": [],
   "source": [
    "df = pd.read_csv(politics_path)"
   ]
  },
  {
   "cell_type": "code",
   "execution_count": 13,
   "metadata": {},
   "outputs": [
    {
     "data": {
      "text/plain": [
       "(50000, 5)"
      ]
     },
     "execution_count": 13,
     "metadata": {},
     "output_type": "execute_result"
    }
   ],
   "source": [
    "df.shape"
   ]
  },
  {
   "cell_type": "code",
   "execution_count": null,
   "metadata": {},
   "outputs": [],
   "source": []
  }
 ],
 "metadata": {
  "kernelspec": {
   "display_name": "Python 3",
   "language": "python",
   "name": "python3"
  },
  "language_info": {
   "codemirror_mode": {
    "name": "ipython",
    "version": 3
   },
   "file_extension": ".py",
   "mimetype": "text/x-python",
   "name": "python",
   "nbconvert_exporter": "python",
   "pygments_lexer": "ipython3",
   "version": "3.7.6"
  }
 },
 "nbformat": 4,
 "nbformat_minor": 4
}
